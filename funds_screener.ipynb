{
 "cells": [
  {
   "cell_type": "code",
   "execution_count": null,
   "metadata": {},
   "outputs": [],
   "source": [
    "import os\n",
    "import pandas as pd\n",
    "import requests as req\n",
    "import os\n",
    "import dotenv\n",
    "from dotenv import load_dotenv\n",
    "import zipfile\n",
    "import matplotlib.pyplot as plt\n",
    "import numpy as np\n",
    "\n",
    "pd.options.display.float_format = '{:.4f}'.format"
   ]
  },
  {
   "cell_type": "code",
   "execution_count": null,
   "metadata": {},
   "outputs": [],
   "source": [
    "#download daily data from 2000 to 2020\n",
    "for ano in range(2000, 2021):\n",
    "    ano = str(ano) \n",
    "\n",
    "    url_dados_diarios = f'https://dados.cvm.gov.br/dados/FI/DOC/INF_DIARIO/DADOS/HIST/inf_diario_fi_{ano}.zip'\n",
    "\n",
    "    download = req.get(url_dados_diarios)\n",
    "\n",
    "    with open(f'inf_diario_fi_{ano}.zip', 'wb') as arquivo_cvm:\n",
    "        arquivo_cvm.write(download.content)\n",
    "\n",
    "    arquivo_zip = zipfile.ZipFile(f'inf_diario_fi_{ano}.zip')\n",
    "    arquivo_zip.extractall(f'inf_diario_fi_{ano}')\n",
    "\n",
    "    dados_fundos_2000_2020 = pd.read_csv(arquivo_zip.open(arquivo_zip.namelist()[0]), sep = ';', encoding= 'ISO-8859-1')\n",
    "\n",
    "dados_fundos_2000_2020"
   ]
  },
  {
   "cell_type": "code",
   "execution_count": null,
   "metadata": {},
   "outputs": [],
   "source": [
    "#download daily data from 2021 to date (due to a change in the pattern)\n",
    "\n",
    "for ano in range(2021, 2025):\n",
    "    for mes in range(1, 13):\n",
    "        \n",
    "        ano_str = str(ano)\n",
    "        mes_str = str(mes).zfill(2)  \n",
    "\n",
    "        url_nova = f'https://dados.cvm.gov.br/dados/FI/DOC/INF_DIARIO/DADOS/inf_diario_fi_{ano_str}{mes_str}.zip'\n",
    "\n",
    "        download = req.get(url_nova)\n",
    "\n",
    "        with open(f'inf_diario_fi_{ano_str}{mes_str}.zip', 'wb') as arquivo_cvm:\n",
    "            arquivo_cvm.write(download.content)\n",
    "\n",
    "        with zipfile.ZipFile(f'inf_diario_fi_{ano_str}{mes_str}.zip') as arquivo_zip:\n",
    "            dados_diarios_2020_2024 = pd.read_csv(arquivo_zip.open(arquivo_zip.namelist()[0]), sep=';', encoding='ISO-8859-1')"
   ]
  },
  {
   "cell_type": "code",
   "execution_count": null,
   "metadata": {},
   "outputs": [],
   "source": [
    "#merging the daily data dataframes\n",
    "\n",
    "diretorio_arquivos = 'your_path'\n",
    "\n",
    "\n",
    "dataframes_2000_2024 = []\n",
    "\n",
    "for ano in range(2000, 2025):\n",
    "    for mes in range(1, 13):\n",
    "        ano_str = str(ano)  \n",
    "        mes_str = str(mes).zfill(2)\n",
    "\n",
    "        if ano < 2005:\n",
    "            caminho_arquivo_zip = os.path.join(diretorio_arquivos, f'inf_diario_fi_{ano}.zip')\n",
    "            nome_arquivo_csv = f'inf_diario_fi_{ano}.csv'\n",
    "        elif ano < 2021:\n",
    "            caminho_arquivo_zip = os.path.join(diretorio_arquivos, f'inf_diario_fi_{ano}.zip')\n",
    "            nome_arquivo_csv = f'inf_diario_fi_{ano_str}{mes_str}.csv'\n",
    "        else:\n",
    "            caminho_arquivo_zip = os.path.join(diretorio_arquivos, f'inf_diario_fi_{ano_str}{mes_str}.zip')\n",
    "            nome_arquivo_csv = f'inf_diario_fi_{ano_str}{mes_str}.csv'\n",
    "\n",
    "        if os.path.exists(caminho_arquivo_zip):\n",
    "            with zipfile.ZipFile(caminho_arquivo_zip) as arquivo_zip:\n",
    "                if nome_arquivo_csv in arquivo_zip.namelist():\n",
    "                    with arquivo_zip.open(nome_arquivo_csv) as arquivo_csv:\n",
    "                        dados_fundos = pd.read_csv(arquivo_csv, sep=';', encoding='ISO-8859-1')\n",
    "                        dataframes_2000_2024.append(dados_fundos)\n",
    "                else:\n",
    "                    print(f'O arquivo CSV {nome_arquivo_csv} não foi encontrado no ZIP para o ano de {ano_str} e mês {mes_str}.')\n",
    "        else:\n",
    "            print(f'O arquivo ZIP para o ano de {ano_str} e mês {mes_str} não foi encontrado.')\n",
    "\n",
    "dados_diarios = pd.concat(dataframes_2000_2024, ignore_index=True)\n",
    "\n",
    "dados_diarios = dados_diarios[['CNPJ_FUNDO', 'DT_COMPTC', 'VL_QUOTA', 'VL_PATRIM_LIQ', 'CAPTC_DIA', 'RESG_DIA', 'NR_COTST']]\n",
    "\n",
    "dados_diarios"
   ]
  },
  {
   "cell_type": "code",
   "execution_count": null,
   "metadata": {},
   "outputs": [],
   "source": [
    "#download registration information from the Hedge Funds:\n",
    "\n",
    "dados_cadastrais = pd.read_csv('https://dados.cvm.gov.br/dados/FI/CAD/DADOS/cad_fi.csv',\n",
    "                               sep= ';', encoding = 'ISO8859-1')\n",
    "\n",
    "dados_cadastrais = dados_cadastrais.drop_duplicates()"
   ]
  },
  {
   "cell_type": "code",
   "execution_count": null,
   "metadata": {},
   "outputs": [],
   "source": [
    "#merge it all together:\n",
    "\n",
    "dados_diarios_completos = pd.merge(dados_diarios, dados_cadastrais, how= 'left',\n",
    "                                      left_on= ['CNPJ_FUNDO'], right_on= ['CNPJ_FUNDO'])"
   ]
  }
 ],
 "metadata": {
  "language_info": {
   "name": "python"
  }
 },
 "nbformat": 4,
 "nbformat_minor": 2
}
